{
 "cells": [
  {
   "cell_type": "code",
   "execution_count": null,
   "id": "06c245eb",
   "metadata": {},
   "outputs": [],
   "source": [
    "import numpy as np"
   ]
  },
  {
   "cell_type": "markdown",
   "id": "90ba993e",
   "metadata": {},
   "source": [
    "# Repaso clases"
   ]
  },
  {
   "cell_type": "markdown",
   "id": "ff29726c",
   "metadata": {},
   "source": [
    "## Recuerda que:\n",
    "\\__init\\__ genera variables a las que puedes acceder fuera de la clase.\n",
    "\n",
    "**The self parameter is a reference to the current instance of the class, and is used to access variables that belongs to the class.**\n"
   ]
  },
  {
   "cell_type": "code",
   "execution_count": 14,
   "id": "41e24925",
   "metadata": {},
   "outputs": [
    {
     "name": "stdout",
     "output_type": "stream",
     "text": [
      "123\n"
     ]
    }
   ],
   "source": [
    "class mother:\n",
    "    \n",
    "    def __init__(self,number):\n",
    "        self.n=number\n",
    "    \n",
    "n2=mother(123)       \n",
    "print(n2.n)"
   ]
  },
  {
   "cell_type": "code",
   "execution_count": null,
   "id": "ab63cd5f",
   "metadata": {},
   "outputs": [],
   "source": []
  },
  {
   "cell_type": "markdown",
   "id": "f8d4b9d5",
   "metadata": {},
   "source": [
    "La función \\__str\\__() controla que debe ser regresado cuando la clase esté representada como un string\n",
    "\n"
   ]
  },
  {
   "cell_type": "code",
   "execution_count": 19,
   "id": "4d4747e4",
   "metadata": {},
   "outputs": [
    {
     "name": "stdout",
     "output_type": "stream",
     "text": [
      "The number is 123\n"
     ]
    }
   ],
   "source": [
    "class mother:\n",
    "    \n",
    "    def __init__(self,number):\n",
    "        self.n=number\n",
    "    \n",
    "    def __str__(self):\n",
    "        return f\"The number is {self.n}\"\n",
    "    \n",
    "n2=mother(123)       \n",
    "print(n2)"
   ]
  },
  {
   "cell_type": "code",
   "execution_count": null,
   "id": "d052a107",
   "metadata": {},
   "outputs": [],
   "source": []
  },
  {
   "cell_type": "markdown",
   "id": "7765e000",
   "metadata": {},
   "source": [
    "Obviamente, nuestras funciones.\n",
    "Su nombre correcto es métodos, son funciones que pertenecen al objeto."
   ]
  },
  {
   "cell_type": "code",
   "execution_count": 23,
   "id": "aa6e816b",
   "metadata": {},
   "outputs": [
    {
     "name": "stdout",
     "output_type": "stream",
     "text": [
      "3\n"
     ]
    }
   ],
   "source": [
    "class mother:\n",
    "    \n",
    "    def __init__(self,number):\n",
    "        self.n=number\n",
    "    \n",
    "    def __str__(self):\n",
    "        return f\"The number is {self.n}\"\n",
    "    \n",
    "    def longitud(self):\n",
    "        return len(str(self.n))\n",
    "    \n",
    "    \n",
    "    \n",
    "n2=mother(123)       \n",
    "print(n2.longitud())"
   ]
  },
  {
   "cell_type": "code",
   "execution_count": null,
   "id": "f7d28360",
   "metadata": {},
   "outputs": [],
   "source": []
  },
  {
   "cell_type": "markdown",
   "id": "90a23d19",
   "metadata": {},
   "source": [
    "## Pueden haber cosas vacías:\n"
   ]
  },
  {
   "cell_type": "code",
   "execution_count": 37,
   "id": "09953098",
   "metadata": {},
   "outputs": [
    {
     "name": "stdout",
     "output_type": "stream",
     "text": [
      "3\n"
     ]
    }
   ],
   "source": [
    "class mother:\n",
    "    \n",
    "    def __init__(self,number):\n",
    "        self.n=number\n",
    "    \n",
    "    def __str__(self):\n",
    "        return f\"The number is {self.n}\"\n",
    "    \n",
    "    def longitud(self):\n",
    "        return len(str(self.n))\n",
    "    def vacio():\n",
    "        pass\n",
    "    \n",
    "    \n",
    "    \n",
    "n2=mother(123)       \n",
    "print(n2.longitud())"
   ]
  },
  {
   "cell_type": "markdown",
   "id": "0d23ee72",
   "metadata": {},
   "source": [
    "## Se pueden modificar :\n"
   ]
  },
  {
   "cell_type": "code",
   "execution_count": 30,
   "id": "cc83abeb",
   "metadata": {},
   "outputs": [
    {
     "name": "stdout",
     "output_type": "stream",
     "text": [
      "The number is 321\n"
     ]
    }
   ],
   "source": [
    "n2.n=321\n",
    "print(n2)"
   ]
  },
  {
   "cell_type": "markdown",
   "id": "39a4dfc1",
   "metadata": {},
   "source": [
    "## O eliminar:"
   ]
  },
  {
   "cell_type": "code",
   "execution_count": 32,
   "id": "1ea1a67a",
   "metadata": {},
   "outputs": [],
   "source": [
    "#del n2.n\n",
    "#print(n2) #No se elimina dos veces, una vez eliminado hay un errpr porque aja, eso era lo que pintaba"
   ]
  },
  {
   "cell_type": "code",
   "execution_count": null,
   "id": "1f1f2664",
   "metadata": {},
   "outputs": [],
   "source": []
  },
  {
   "cell_type": "code",
   "execution_count": null,
   "id": "055c60ed",
   "metadata": {},
   "outputs": [],
   "source": []
  },
  {
   "cell_type": "code",
   "execution_count": 213,
   "id": "d4659c84",
   "metadata": {},
   "outputs": [],
   "source": [
    "class mother:\n",
    "    \n",
    "    def __init__(self,number):\n",
    "        self.n=number\n",
    "    \n",
    "    def __str__(self):\n",
    "        return f\"The number is {self.n}\"\n",
    "    \n",
    "    def longitud(self):\n",
    "        return len(str(self.n))\n",
    "    \n",
    "    def split(self):\n",
    "        return [x for x in str(self.n)]\n",
    "    \n",
    "    def Potencia(self,a):\n",
    "        return self.n**a"
   ]
  },
  {
   "cell_type": "code",
   "execution_count": 188,
   "id": "70ef9073",
   "metadata": {},
   "outputs": [
    {
     "name": "stdout",
     "output_type": "stream",
     "text": [
      "The number is 123 123 2\n",
      "15129\n"
     ]
    }
   ],
   "source": [
    "n2=mother(123)\n",
    "print(n2.Potencia(2))"
   ]
  },
  {
   "cell_type": "code",
   "execution_count": 189,
   "id": "7938afcb",
   "metadata": {},
   "outputs": [],
   "source": [
    "a= np.real(n2.split())"
   ]
  },
  {
   "cell_type": "code",
   "execution_count": 190,
   "id": "c133564d",
   "metadata": {},
   "outputs": [
    {
     "data": {
      "text/plain": [
       "array(['1', '2', '3'], dtype='<U1')"
      ]
     },
     "execution_count": 190,
     "metadata": {},
     "output_type": "execute_result"
    }
   ],
   "source": [
    "a"
   ]
  },
  {
   "cell_type": "code",
   "execution_count": null,
   "id": "7d608796",
   "metadata": {},
   "outputs": [],
   "source": []
  },
  {
   "cell_type": "markdown",
   "id": "2549a304",
   "metadata": {},
   "source": [
    "# Herencia:\n",
    "Se hereda la funcionalidad de otra clase. Los métodos y propiedades de la clase madre.\n",
    "\n",
    "Cuando se agreda en la clase hija la función \\__init\\__, esta ya no heredará la función \\__init\\__ de la madre.\n",
    "\n",
    "\n"
   ]
  },
  {
   "cell_type": "code",
   "execution_count": 113,
   "id": "33974254",
   "metadata": {},
   "outputs": [],
   "source": [
    "class Cubic(mother):\n",
    "    def __init__(self,number):\n",
    "        mother.__init__(self,number)"
   ]
  },
  {
   "cell_type": "code",
   "execution_count": 115,
   "id": "bb8392e8",
   "metadata": {},
   "outputs": [
    {
     "name": "stdout",
     "output_type": "stream",
     "text": [
      "['1', '2', '3']\n"
     ]
    }
   ],
   "source": [
    "C=Cubic(123)\n",
    "print(C.split())"
   ]
  },
  {
   "cell_type": "markdown",
   "id": "2a01c66b",
   "metadata": {},
   "source": [
    "Python also has a super() function that will make the child class inherit all the methods and properties from its parent:\n",
    "\n",
    "By using the super() function, you do not have to use the name of the parent element, it will automatically inherit the methods and properties from its parent."
   ]
  },
  {
   "cell_type": "code",
   "execution_count": 191,
   "id": "b4d1b1d5",
   "metadata": {},
   "outputs": [],
   "source": [
    "class Cubic(mother):\n",
    "    def __init__(self,number):\n",
    "        super().__init__(number)\n"
   ]
  },
  {
   "cell_type": "code",
   "execution_count": 192,
   "id": "6080010f",
   "metadata": {},
   "outputs": [
    {
     "name": "stdout",
     "output_type": "stream",
     "text": [
      "['1', '2']\n"
     ]
    }
   ],
   "source": [
    "cu=Cubic(12)\n",
    "print(cu.split())"
   ]
  },
  {
   "cell_type": "code",
   "execution_count": 193,
   "id": "18c47ec4",
   "metadata": {},
   "outputs": [],
   "source": [
    "class Cubic(mother):\n",
    "    def __init__(self,number,a):\n",
    "        super().__init__(number)  ###OJO ACA ya no va el self\n",
    "        self.a2=a\n",
    "        "
   ]
  },
  {
   "cell_type": "code",
   "execution_count": 194,
   "id": "5341814f",
   "metadata": {},
   "outputs": [
    {
     "name": "stdout",
     "output_type": "stream",
     "text": [
      "1\n"
     ]
    }
   ],
   "source": [
    "cuu=Cubic(12,1)\n",
    "print(cuu.a2)"
   ]
  },
  {
   "cell_type": "markdown",
   "id": "e75d8a1a",
   "metadata": {},
   "source": [
    "## Ahora si a lo que vinimos:"
   ]
  },
  {
   "cell_type": "code",
   "execution_count": 222,
   "id": "2ce0dbdc",
   "metadata": {},
   "outputs": [],
   "source": [
    "class SumaDeCubos(mother):\n",
    "    def __init__(self,number):\n",
    "        super().__init__(number) \n",
    "    \n",
    "    def suma(self):\n",
    "        s=0\n",
    "        for x in self.split():\n",
    "            self.n=int(x)\n",
    "            s=s+self.Potencia(3)\n",
    "        return s"
   ]
  },
  {
   "cell_type": "code",
   "execution_count": 223,
   "id": "ffe51d6b",
   "metadata": {},
   "outputs": [],
   "source": [
    "cuu=Cubic(123)"
   ]
  },
  {
   "cell_type": "code",
   "execution_count": 224,
   "id": "af64843e",
   "metadata": {},
   "outputs": [
    {
     "data": {
      "text/plain": [
       "36"
      ]
     },
     "execution_count": 224,
     "metadata": {},
     "output_type": "execute_result"
    }
   ],
   "source": [
    "1**3+2**3+3**3"
   ]
  },
  {
   "cell_type": "code",
   "execution_count": 225,
   "id": "f8debebb",
   "metadata": {},
   "outputs": [
    {
     "data": {
      "text/plain": [
       "36"
      ]
     },
     "execution_count": 225,
     "metadata": {},
     "output_type": "execute_result"
    }
   ],
   "source": [
    "cuu.suma()"
   ]
  },
  {
   "cell_type": "code",
   "execution_count": 226,
   "id": "92cd241d",
   "metadata": {},
   "outputs": [],
   "source": [
    "class SumaDeCuadrados(mother):\n",
    "    def __init__(self,number):\n",
    "        super().__init__(number) \n",
    "    \n",
    "    def suma(self):\n",
    "        s=0\n",
    "        for x in self.split():\n",
    "            self.n=int(x)\n",
    "            s=s+self.Potencia(2)\n",
    "        return s"
   ]
  },
  {
   "cell_type": "code",
   "execution_count": 228,
   "id": "1a1b1540",
   "metadata": {},
   "outputs": [
    {
     "data": {
      "text/plain": [
       "14"
      ]
     },
     "execution_count": 228,
     "metadata": {},
     "output_type": "execute_result"
    }
   ],
   "source": [
    "cuadr=Cuadratic(123)\n",
    "cuadr.suma()"
   ]
  },
  {
   "cell_type": "code",
   "execution_count": null,
   "id": "e4a2fe78",
   "metadata": {},
   "outputs": [],
   "source": []
  }
 ],
 "metadata": {
  "kernelspec": {
   "display_name": "Python 3 (ipykernel)",
   "language": "python",
   "name": "python3"
  },
  "language_info": {
   "codemirror_mode": {
    "name": "ipython",
    "version": 3
   },
   "file_extension": ".py",
   "mimetype": "text/x-python",
   "name": "python",
   "nbconvert_exporter": "python",
   "pygments_lexer": "ipython3",
   "version": "3.8.10"
  }
 },
 "nbformat": 4,
 "nbformat_minor": 5
}
